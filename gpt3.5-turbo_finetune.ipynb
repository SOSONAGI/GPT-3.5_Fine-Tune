{
 "cells": [
  {
   "cell_type": "code",
   "execution_count": null,
   "id": "e9483dbb-b53e-4b08-b4cf-91e27f8592ba",
   "metadata": {},
   "outputs": [],
   "source": [
    "## insall dependencies and refer to README\n",
    "\n",
    "import openai\n",
    "\n",
    "openai.api_key = 'OPENAI_API_KEY'"
   ]
  },
  {
   "cell_type": "code",
   "execution_count": null,
   "id": "dc4e0f0d-553b-4b9d-8ddb-7870b678eec6",
   "metadata": {},
   "outputs": [],
   "source": [
    "## I set path in my workstation (you can possibly make the path from googld cloud_mount)\n",
    "\n",
    "training_file_path = \"Your_file_path\"\n",
    "validation_file_path = \"Your_file_path\"\n",
    "\n",
    "training_file_name = \"your_training_data_name.jsonl\"\n",
    "validation_file_name = \"your_validation_data_name.jsonl\""
   ]
  },
  {
   "cell_type": "code",
   "execution_count": null,
   "id": "1338a1cf-f409-40eb-9106-be5a2e10e068",
   "metadata": {},
   "outputs": [],
   "source": [
    "## following the file_path and set name above paragraph\n",
    "## you can see training and validation ID after you've run this paragraph\n",
    "\n",
    "training_response = openai.File.create(\n",
    "    file=open(training_file_name, \"rb\"), purpose=\"fine-tune\"\n",
    ")\n",
    "training_file_id = training_response[\"id\"]\n",
    "\n",
    "validation_response = openai.File.create(\n",
    "    file=open(validation_file_name, \"rb\"), purpose=\"fine-tune\"\n",
    ")\n",
    "validation_file_id = validation_response[\"id\"]\n",
    "\n",
    "print(\"your_training_data_name file ID:\", training_file_id)\n",
    "print(\"Your_validation_data_name file ID:\", validation_file_id)"
   ]
  },
  {
   "cell_type": "code",
   "execution_count": null,
   "id": "6d8316a9-ff07-448e-ad76-6509dd1a254a",
   "metadata": {},
   "outputs": [],
   "source": [
    "## You can check your status for uploading, processed and succeeded(train finished) after run this\n",
    "\n",
    "file_status = openai.File.retrieve(training_file_id)\n",
    "print(file_status['status'])"
   ]
  },
  {
   "cell_type": "code",
   "execution_count": null,
   "id": "bb9f81cb-02ce-48c8-afa9-7d1c6a57f027",
   "metadata": {},
   "outputs": [],
   "source": [
    "## Your job ID and status will be shown after run this\n",
    "## ** You have to wait for a minutes for uploading your files on Openai server and don't worry about not working (Patient for proceeding)\n",
    "## You can set any names for suffix \n",
    "\n",
    "response = openai.FineTuningJob.create(\n",
    "    training_file=training_file_id,\n",
    "    validation_file=validation_file_id,\n",
    "    model=\"gpt-3.5-turbo\",\n",
    "    suffix=\"defective\",\n",
    ")\n",
    "\n",
    "job_id = response[\"id\"]\n",
    "\n",
    "print(\"Job ID:\", response[\"id\"])\n",
    "print(\"Status:\", response[\"status\"])"
   ]
  },
  {
   "cell_type": "code",
   "execution_count": null,
   "id": "d6878ea2-061e-4616-ad15-54dd543375fd",
   "metadata": {},
   "outputs": [],
   "source": [
    "## You can get Job ID, Status, and Trained Tokens after run this\n",
    "## You don't have to worry about Tokens:None in that your training and validation datas already being train after run above paragraph\n",
    "\n",
    "response = openai.FineTuningJob.retrieve(job_id)\n",
    "\n",
    "print(\"Job ID:\", response[\"id\"])\n",
    "print(\"Status:\", response[\"status\"])\n",
    "print(\"Trained Tokens:\", response[\"trained_tokens\"])"
   ]
  },
  {
   "cell_type": "code",
   "execution_count": null,
   "id": "cb50eeeb-9288-4b3b-83ba-88e1a18469f0",
   "metadata": {},
   "outputs": [],
   "source": [
    "## This will shown the how training works through steps (If you want to check in real-time, you have to run several times)\n",
    "## Step 160: training loss=0.00\n",
    "## Step 170: training loss=0.00\n",
    "## Step 180: training loss=1.19\n",
    "## Example for your understanding\n",
    "\n",
    "response = openai.FineTuningJob.list_events(id=job_id, limit=50)\n",
    "\n",
    "events = response[\"data\"]\n",
    "events.reverse()\n",
    "\n",
    "for event in events:\n",
    "    print(event[\"message\"])"
   ]
  },
  {
   "cell_type": "code",
   "execution_count": null,
   "id": "4f74ee25-b17d-48f3-9651-9a06d0f2b8ce",
   "metadata": {},
   "outputs": [],
   "source": [
    "## You can get a fine-tuned model ID after finished above training steps\n",
    "## I put over 200 columns for training and it took about less than half of minutes\n",
    "## ID will be like that : Fine-tuned model ID: ft:gpt-3.5-turbo-0613:your_openai_ID_name: suffix_name: random_number\n",
    "\n",
    "response = openai.FineTuningJob.retrieve(job_id)\n",
    "fine_tuned_model_id = response[\"fine_tuned_model\"]\n",
    "\n",
    "print(\"Fine-tuned model ID:\", fine_tuned_model_id)"
   ]
  },
  {
   "cell_type": "code",
   "execution_count": null,
   "id": "2d91fc31-c64a-4a54-aef4-fd6237888b41",
   "metadata": {},
   "outputs": [],
   "source": [
    "## This could be your own style. Openai used csv and pd for test but, i would make that simple.\n",
    "\n",
    "import pandas as pd\n",
    "from pprint import pprint\n",
    "\n",

    "test_data = {\n",
    "    'system_message': [\"하자 전문가.\"],\n",
    "    'user_message': [\"벽지 하자 유형은 어떻게돼?\"]\n",
    "}\n",
    "\n",

    "test_df = pd.DataFrame(test_data)\n",
    "\n",

    "test_row = test_df.iloc[0]\n",
    "\n",

    "system_message = test_row['system_message']\n",
    "\n",
    "test_messages = []\n",
    "test_messages.append({\"role\": \"system\", \"content\": system_message})\n",
    "\n",

    "def create_user_message(row):\n",
    "    return row['user_message']\n",
    "\n",
    "user_message = create_user_message(test_row)\n",
    "test_messages.append({\"role\": \"user\", \"content\": user_message})\n",
    "\n",
    "pprint(test_messages)\n"
   ]
  },
  {
   "cell_type": "code",
   "execution_count": null,
   "id": "cfc49e83-8438-4ede-9cc3-9a4502849a84",
   "metadata": {},
   "outputs": [],
   "source": [
    "## You can use your fine-tuned model ID just like gpt-3.5-turbo "
   ]
  }
 ],
 "metadata": {
  "kernelspec": {
   "display_name": "Python (finetune)",
   "language": "python",
   "name": "finetune"
  },
  "language_info": {
   "codemirror_mode": {
    "name": "ipython",
    "version": 3
   },
   "file_extension": ".py",
   "mimetype": "text/x-python",
   "name": "python",
   "nbconvert_exporter": "python",
   "pygments_lexer": "ipython3",
   "version": "3.10.12"
  }
 },
 "nbformat": 4,
 "nbformat_minor": 5
}
